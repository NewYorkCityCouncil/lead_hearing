{
 "cells": [
  {
   "cell_type": "code",
   "execution_count": 2,
   "id": "da23c549",
   "metadata": {},
   "outputs": [
    {
     "name": "stdout",
     "output_type": "stream",
     "text": [
      "/bin/bash: pip: command not found\r\n"
     ]
    }
   ],
   "source": [
    "!pip install pygris"
   ]
  },
  {
   "cell_type": "code",
   "execution_count": 3,
   "id": "d6ad1703",
   "metadata": {},
   "outputs": [],
   "source": [
    "import numpy as np\n",
    "import pandas as pd\n",
    "import matplotlib.pyplot as plt\n",
    "import geopandas as gpd\n",
    "import pygris\n",
    "from pygris.data import get_census\n",
    "from pygris import tracts\n",
    "from pygris.utils import erase_water"
   ]
  },
  {
   "cell_type": "code",
   "execution_count": 4,
   "id": "a318e624",
   "metadata": {},
   "outputs": [
    {
     "name": "stdout",
     "output_type": "stream",
     "text": [
      "Using FIPS code '36' for input 'NY'\n",
      "Using FIPS code '061' for input 'New York'\n",
      "Using FIPS code '005' for input 'Bronx'\n",
      "Using FIPS code '085' for input 'Richmond'\n",
      "Using FIPS code '047' for input 'Kings'\n",
      "Using FIPS code '081' for input 'Queens'\n"
     ]
    }
   ],
   "source": [
    "# just NYC tracts\n",
    "\n",
    "nyc_counties = [\"New York\", \"Bronx\", \"Richmond\", \n",
    "                \"Kings\", \"Queens\"]\n",
    "\n",
    "nyc_tracts = tracts(state = \"NY\", county = nyc_counties, cb = True,\n",
    "                    year = 2021, cache = True)"
   ]
  },
  {
   "cell_type": "code",
   "execution_count": 5,
   "id": "09fc3fc2",
   "metadata": {},
   "outputs": [],
   "source": [
    "# population estimates for under 5 (ACS api call using get_census)\n",
    "\n",
    "ny_under5 = get_census(dataset = \"acs/acs5/profile\",\n",
    "                        variables = \"DP05_0005E\", # variable name found at https://api.census.gov/data/2021/acs/acs5/profile/variables.html\n",
    "                        year = 2021,\n",
    "                        params = {\n",
    "                          \"for\": \"tract:*\",\n",
    "                          \"in\": \"state:36\"},\n",
    "                        guess_dtypes = True,\n",
    "                        return_geoid = True)\n",
    "\n",
    "# percents (ACS api call using get_census)\n",
    "\n",
    "ny_under5_p = get_census(dataset = \"acs/acs5/profile\",\n",
    "                        variables = \"DP05_0005PE\", # variable name found at https://api.census.gov/data/2021/acs/acs5/profile/variables.html\n",
    "                        year = 2021,\n",
    "                        params = {\n",
    "                          \"for\": \"tract:*\",\n",
    "                          \"in\": \"state:36\"},\n",
    "                        guess_dtypes = True,\n",
    "                        return_geoid = True)"
   ]
  },
  {
   "cell_type": "code",
   "execution_count": 8,
   "id": "b97f53cb",
   "metadata": {},
   "outputs": [],
   "source": [
    "# building/ cleaning df\n",
    "\n",
    "ny_under5 = ny_under5.rename(columns={'DP05_0005E':'Estimated Pop. Under 5'}) # renaming column\n",
    "ny_under5['Percent Under 5'] = ny_under5_p['DP05_0005PE'] # adding percent column to main df\n",
    "\n",
    "ny_under5 = ny_under5[['Estimated Pop. Under 5','Percent Under 5','GEOID']] # reordering the columns"
   ]
  },
  {
   "cell_type": "code",
   "execution_count": 9,
   "id": "a3aa488c",
   "metadata": {},
   "outputs": [],
   "source": [
    "# df of just NYC census tract data\n",
    "\n",
    "nyc_under5_merged = nyc_tracts.merge(ny_under5, how = \"inner\", on = \"GEOID\") # merging with nyc_tracts to get info just for NYC tracts\n",
    "\n",
    "nyc_under5_erase = erase_water(nyc_under5_merged, area_threshold = 0.9) # erasing water"
   ]
  },
  {
   "cell_type": "code",
   "execution_count": 12,
   "id": "21b8c6ba",
   "metadata": {},
   "outputs": [],
   "source": [
    "nyc_under5_erase = nyc_under5_erase[['COUNTYFP','TRACTCE','GEOID','geometry','Estimated Pop. Under 5','Percent Under 5']]\n",
    "\n",
    "nyc_under5_erase.to_csv('under5-by-tract_nyc') # downloading as csv"
   ]
  }
 ],
 "metadata": {
  "kernelspec": {
   "display_name": "Python 3 (ipykernel)",
   "language": "python",
   "name": "python3"
  },
  "language_info": {
   "codemirror_mode": {
    "name": "ipython",
    "version": 3
   },
   "file_extension": ".py",
   "mimetype": "text/x-python",
   "name": "python",
   "nbconvert_exporter": "python",
   "pygments_lexer": "ipython3",
   "version": "3.9.13"
  }
 },
 "nbformat": 4,
 "nbformat_minor": 5
}
